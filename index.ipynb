{
 "cells": [
  {
   "cell_type": "code",
   "execution_count": 12,
   "metadata": {},
   "outputs": [],
   "source": [
    "import bokeh\n",
    "import contextily\n",
    "import cx_Oracle\n",
    "import descartes\n",
    "import faker\n",
    "import fiona\n",
    "import geopandas\n",
    "import gdal\n",
    "import ipywidgets\n",
    "import jupyter_contrib_nbextensions\n",
    "import matplotlib\n",
    "import numpy\n",
    "import pandas\n",
    "import pandas_profiling\n",
    "import PIL\n",
    "import plotly\n",
    "import pysal\n",
    "import rtree\n",
    "import scipy\n",
    "import seaborn\n",
    "import shap\n",
    "import shapely\n",
    "import sklearn"
   ]
  },
  {
   "cell_type": "code",
   "execution_count": null,
   "metadata": {},
   "outputs": [],
   "source": []
  }
 ],
 "metadata": {
  "kernelspec": {
   "display_name": "Python 3",
   "language": "python",
   "name": "python3"
  },
  "language_info": {
   "codemirror_mode": {
    "name": "ipython",
    "version": 3
   },
   "file_extension": ".py",
   "mimetype": "text/x-python",
   "name": "python",
   "nbconvert_exporter": "python",
   "pygments_lexer": "ipython3",
   "version": "3.7.3"
  }
 },
 "nbformat": 4,
 "nbformat_minor": 2
}
